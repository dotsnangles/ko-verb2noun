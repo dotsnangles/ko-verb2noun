{
 "cells": [
  {
   "cell_type": "code",
   "execution_count": 32,
   "metadata": {},
   "outputs": [],
   "source": [
    "import re\n",
    "from jamo import h2j, j2h, j2hcj\n",
    "from konlpy.tag import Kkma, Komoran\n",
    "\n",
    "kkma = Kkma()\n",
    "komoran = Komoran()\n",
    "tokenizer = kkma"
   ]
  },
  {
   "cell_type": "code",
   "execution_count": 33,
   "metadata": {},
   "outputs": [],
   "source": [
    "# '-(으)ㅁ'\n",
    "\n",
    "# 종성이 있는 경우 음\n",
    "# 종성이 없는 경우 ㅁ\n",
    "\n",
    "# 활용으로 인해 종성이 탈락하더라도 종성이 있는 경우로 취급\n",
    "\n",
    "# ㄷ 불규칙 활용\n",
    "# 어간 받침 'ㄷ'이 홀소리로 시작되는 어미 앞에서 'ㄹ'로 바뀌는 활용 형식이다.\n",
    "# 걷다[步] → 걸어, 걸으니\n",
    "# 걷 > 걸 > 걸음 <<< 종성 있는 경우\n",
    "\n",
    "# ㅅ 불규칙 활용\n",
    "# 어간 끝소리 'ㅅ'이 홀소리로 시작하는 어미 앞에서 사라지는 활용 형식이다.\n",
    "# 긋다 → 그어, 그으니\n",
    "# 긋 > 그 > 그음 <<< 종성 있는 경우\n",
    "\n",
    "# ㅂ 불규칙 활용\n",
    "# 어간 끝소리 'ㅂ'이 '우'로 바뀌는 활용 형식이다. '워', '우니'의 형태로 결합되어 나타난다.\n",
    "# 가깝다 → 가까워, 가까우니\n",
    "# 가깝 > 가까우 > 가까움 <<< 종성 없는 경우"
   ]
  },
  {
   "cell_type": "code",
   "execution_count": 34,
   "metadata": {},
   "outputs": [],
   "source": [
    "irregular_conjugation_stems = ['걷', '긷', '깨닫', '눋', '닫', '듣', '묻', '붇', '싣', '일컫', '가깝', '가볍', '간지럽', '굽', '그립', '깁', '껄끄럽', '노엽', '더럽', '덥', '맵', '메스껍', '무겁', '반갑', '부끄럽', '사납', '서럽', '쑥스럽', '줍', '긋', '낫', '붓', '잇', '잣', '젓', '짓', ]"
   ]
  },
  {
   "cell_type": "code",
   "execution_count": 35,
   "metadata": {},
   "outputs": [],
   "source": [
    "def verb_exception_handler(verb):\n",
    "    if verb == '나서':\n",
    "        return '나'\n",
    "    else:\n",
    "        return verb"
   ]
  },
  {
   "cell_type": "code",
   "execution_count": 36,
   "metadata": {},
   "outputs": [
    {
     "name": "stdout",
     "output_type": "stream",
     "text": [
      "봄\n",
      "돌음\n",
      "걸음\n",
      "그음\n",
      "가까움\n",
      "반가움\n",
      "넘어짐\n"
     ]
    }
   ],
   "source": [
    "def verb_to_noun(verb):\n",
    "    \n",
    "    \"\"\"\n",
    "    한국어의 용언을 명사형으로 변환하는 함수입니다.\n",
    "    불규칙 활용이 반영되어 있으나 예외의 경우 아직 사전 구축이 되어 있지 않습니다.\n",
    "    \n",
    "    \"\"\"\n",
    "    \n",
    "    verb = verb_exception_handler(verb)\n",
    "\n",
    "    eum = '음'  # 명사형 전성 어미 '음'\n",
    "    m = h2j('음')[-1]  # 명사형 전성 어미 'ㅁ'\n",
    "\n",
    "    d = h2j('ㄷ')  # ㄷ 불규칙 활용\n",
    "    s = h2j('ㅅ')  # ㅅ 불규칙 활용\n",
    "    b = h2j('ㅂ')  # ㅂ 불규칙 활용\n",
    "\n",
    "    last_syllables = h2j(verb[-1])  # 용언의 마지막 자모군\n",
    "    final = j2hcj(last_syllables[-1])  # 마지막 자모군의 끝글자\n",
    "\n",
    "    pattern = re.compile(r'[ㅏ-ㅣ]')\n",
    "    has_final = not bool(pattern.match(final))  # 마지막 자모군에 종성 존재 여부\n",
    "\n",
    "    if has_final and final != b:  # 종성이 존재하는 경우 / ㅂ 불규칙 활용의 경우 종성이 없는 경우로 취급\n",
    "        if final == d and verb in irregular_conjugation_stems:  # ㄷ 불규칙 활용 적용\n",
    "            modified = last_syllables[:-1] + h2j('ㄹ')\n",
    "            return verb[:-1] + j2h(*modified) + eum\n",
    "        elif final == s and verb in irregular_conjugation_stems:  # ㅅ 불규칙 활용 적용\n",
    "            modified = last_syllables[:-1]\n",
    "            return verb[:-1] + j2h(*modified) + eum\n",
    "        else:  # 종성이 존재하나 불규칙 활용이 아닌 경우\n",
    "            modified = last_syllables\n",
    "            return verb[:-1] + j2h(*modified) + eum\n",
    "    else:  # 종성이 존재하지 않는 경우\n",
    "        if final == b and verb in irregular_conjugation_stems:  # ㅂ 불규칙 활용\n",
    "            modified = h2j('우') + m\n",
    "            return verb[:-1] + j2h(*last_syllables[:-1]) + j2h(*modified)\n",
    "        else:  # 종성이 존재하지 않으며 불규칙 활용이 아닌 경우\n",
    "            modified = last_syllables + m\n",
    "            return verb[:-1] + j2h(*modified)\n",
    "\n",
    "# 보다 / 돌다 / 걷다 / 긋다 / 가깝다 / 반갑다 / 넘어지\n",
    "\n",
    "print(verb_to_noun('보'))\n",
    "print(verb_to_noun('돌'))\n",
    "print(verb_to_noun('걷'))\n",
    "print(verb_to_noun('긋'))\n",
    "print(verb_to_noun('가깝'))\n",
    "print(verb_to_noun('반갑'))\n",
    "print(verb_to_noun('넘어지'))"
   ]
  },
  {
   "cell_type": "code",
   "execution_count": 37,
   "metadata": {},
   "outputs": [],
   "source": [
    "def extract_keywords(sentence):\n",
    "    \n",
    "    \"\"\"\n",
    "    문장을 입력으로 받아서 형태소 분석을 수행하고, 명사(Noun)와 동사(Verb)를 추출하는 함수\n",
    "\n",
    "    \"\"\"\n",
    "    pos = tokenizer.pos(sentence)\n",
    "    keywords_w_pos = [[word, tag] for word, tag in pos if tag in ['NNG', 'NNP', 'VV', 'VA']]\n",
    "    return keywords_w_pos\n",
    "\n",
    "# \n",
    "def sentence_to_noun_verb(sentence):\n",
    "\n",
    "    \"\"\"\n",
    "    \"사다리가 쓰러져서\" 문장을 \"사다리 쓰러짐\" 문자열로 변환하는 함수\n",
    "\n",
    "    \"\"\"\n",
    "    keywords_w_pos = extract_keywords(sentence)\n",
    "    for item in keywords_w_pos:\n",
    "        if item[1] == 'VV' or item[1] == 'VA':\n",
    "            item[0] = verb_to_noun(item[0])\n",
    "    result = [word for word, tag in keywords_w_pos]\n",
    "    return ' '.join(result)"
   ]
  },
  {
   "cell_type": "code",
   "execution_count": 38,
   "metadata": {},
   "outputs": [
    {
     "name": "stdout",
     "output_type": "stream",
     "text": [
      "[['발판', 'NNG'], ['쓰러지', 'VV']]\n",
      "[['사다리', 'NNG'], ['넘어지', 'VV']]\n",
      "[['사다리', 'NNG'], ['넘어지', 'VV']]\n",
      "[['사다리', 'NNG'], ['넘어지', 'VV']]\n",
      "[['발판', 'NNG'], ['쓰러지', 'VV']]\n",
      "[['화재', 'NNG'], ['발생', 'NNG']]\n",
      "[['배탈', 'NNG'], ['나서', 'VV']]\n",
      "[['배탈', 'NNG'], ['나', 'VV']]\n",
      "발판 쓰러짐\n",
      "사다리 넘어짐\n",
      "사다리 넘어짐\n",
      "사다리 넘어짐\n",
      "발판 쓰러짐\n",
      "화재 발생\n",
      "배탈 남\n",
      "배탈 남\n"
     ]
    }
   ],
   "source": [
    "test_cases = ['발판이 쓰러져서', '사다리가 넘어지다', '사다리가 넘어져서', '사다리가 넘어져', '발판이 쓰러져', '화재 발생', '배탈이 나서', '배탈이 났다']\n",
    "\n",
    "for item in test_cases:\n",
    "    result = extract_keywords(item)\n",
    "    print(result)\n",
    "\n",
    "for item in test_cases:\n",
    "    result = sentence_to_noun_verb(item)\n",
    "    print(result)"
   ]
  }
 ],
 "metadata": {
  "kernelspec": {
   "display_name": "konlpy",
   "language": "python",
   "name": "python3"
  },
  "language_info": {
   "codemirror_mode": {
    "name": "ipython",
    "version": 3
   },
   "file_extension": ".py",
   "mimetype": "text/x-python",
   "name": "python",
   "nbconvert_exporter": "python",
   "pygments_lexer": "ipython3",
   "version": "3.10.9"
  },
  "orig_nbformat": 4,
  "vscode": {
   "interpreter": {
    "hash": "115e57fa8a6cabf4ff14ccb7a0a20905a6bade572e374a3d978bab4e6ffa1af9"
   }
  }
 },
 "nbformat": 4,
 "nbformat_minor": 2
}
