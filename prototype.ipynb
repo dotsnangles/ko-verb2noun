{
 "cells": [
  {
   "cell_type": "code",
   "execution_count": 1,
   "metadata": {},
   "outputs": [],
   "source": [
    "import re\n",
    "from jamo import h2j, j2h, j2hcj\n",
    "from konlpy.tag import Kkma, Komoran\n",
    "\n",
    "kkma = Kkma()\n",
    "komoran = Komoran()\n",
    "tokenizer = komoran"
   ]
  },
  {
   "cell_type": "code",
   "execution_count": 2,
   "metadata": {},
   "outputs": [],
   "source": [
    "irregular_conjugation_stems = ['걷', '긷', '깨닫', '눋', '닫', '듣', '묻', '붇', '싣', '일컫', '가깝', '가볍', '간지럽', '굽', '그립', '깁', '껄끄럽', '노엽', '더럽', '덥', '맵', '메스껍', '무겁', '반갑', '부끄럽', '사납', '서럽', '쑥스럽', '줍', '긋', '낫', '붓', '잇', '잣', '젓', '짓', ]"
   ]
  },
  {
   "cell_type": "code",
   "execution_count": 3,
   "metadata": {},
   "outputs": [],
   "source": [
    "def verb_exception_handler(verb):\n",
    "    if verb == '나서':\n",
    "        return '나'\n",
    "    else:\n",
    "        return verb"
   ]
  },
  {
   "cell_type": "code",
   "execution_count": 4,
   "metadata": {},
   "outputs": [
    {
     "name": "stdout",
     "output_type": "stream",
     "text": [
      "봄\n",
      "돌음\n",
      "걸음\n",
      "그음\n",
      "가까움\n",
      "반가움\n",
      "넘어짐\n"
     ]
    }
   ],
   "source": [
    "def verb_to_noun(verb):\n",
    "    \n",
    "    \"\"\"\n",
    "    한국어의 용언을 명사형으로 변환하는 함수입니다.\n",
    "    용언(동사, 형용사)의 어근을 받아 명사형으로 반환합니다.\n",
    "        \n",
    "    \"\"\"\n",
    "    \n",
    "    verb = verb_exception_handler(verb)\n",
    "\n",
    "    eum = '음'  # 명사형 전성 어미 '음'\n",
    "    m = h2j('음')[-1]  # 명사형 전성 어미 'ㅁ'\n",
    "\n",
    "    d = h2j('ㄷ')  # ㄷ 불규칙 활용\n",
    "    s = h2j('ㅅ')  # ㅅ 불규칙 활용\n",
    "    b = h2j('ㅂ')  # ㅂ 불규칙 활용\n",
    "\n",
    "    last_syllables = h2j(verb[-1])  # 용언의 마지막 자모군\n",
    "    final = j2hcj(last_syllables[-1])  # 마지막 자모군의 끝글자\n",
    "\n",
    "    pattern = re.compile(r'[ㅏ-ㅣ]')\n",
    "    has_final = not bool(pattern.match(final))  # 마지막 자모군에 종성 존재 여부\n",
    "\n",
    "    if has_final and final != b:  # 종성이 존재하는 경우 / ㅂ 불규칙 활용의 경우 종성이 없는 경우로 취급\n",
    "        if final == d and verb in irregular_conjugation_stems:  # ㄷ 불규칙 활용 적용\n",
    "            modified = last_syllables[:-1] + h2j('ㄹ')\n",
    "            return verb[:-1] + j2h(*modified) + eum\n",
    "        elif final == s and verb in irregular_conjugation_stems:  # ㅅ 불규칙 활용 적용\n",
    "            modified = last_syllables[:-1]\n",
    "            return verb[:-1] + j2h(*modified) + eum\n",
    "        else:  # 종성이 존재하나 불규칙 활용이 아닌 경우\n",
    "            modified = last_syllables\n",
    "            return verb[:-1] + j2h(*modified) + eum\n",
    "    else:  # 종성이 존재하지 않는 경우\n",
    "        if final == b and verb in irregular_conjugation_stems:  # ㅂ 불규칙 활용\n",
    "            modified = h2j('우') + m\n",
    "            return verb[:-1] + j2h(*last_syllables[:-1]) + j2h(*modified)\n",
    "        else:  # 종성이 존재하지 않으며 불규칙 활용이 아닌 경우\n",
    "            modified = last_syllables + m\n",
    "            return verb[:-1] + j2h(*modified)\n",
    "\n",
    "# 보다 / 돌다 / 걷다 / 긋다 / 가깝다 / 반갑다 / 넘어지\n",
    "\n",
    "print(verb_to_noun('보'))\n",
    "print(verb_to_noun('돌'))\n",
    "print(verb_to_noun('걷'))\n",
    "print(verb_to_noun('긋'))\n",
    "print(verb_to_noun('가깝'))\n",
    "print(verb_to_noun('반갑'))\n",
    "print(verb_to_noun('넘어지'))"
   ]
  },
  {
   "cell_type": "code",
   "execution_count": 5,
   "metadata": {},
   "outputs": [],
   "source": [
    "def extract_keywords(sentence):\n",
    "    \n",
    "    \"\"\"\n",
    "    문장을 입력으로 받아서 형태소 분석을 수행하고, 명사(Noun)와 동사(Verb)를 추출하는 함수\n",
    "    동사 외에도 연결어미, 동사파생접미사, 몇몇 조사를 추출합니다.\n",
    "    이후 마지막 토큰이 명사형 혹은 동사의 어근이 아닌 경우 삭제합니다.\n",
    "    tokenizer별 형태소 분류표: https://docs.google.com/spreadsheets/d/1OGAjUvalBuX-oZvZ_-9tEfYD2gQe7hTGsgUpiiBSXI8/edit#gid=0\n",
    "\n",
    "    \"\"\"\n",
    "    pos = tokenizer.pos(sentence)\n",
    "    # keywords_w_pos = [[word, tag] for word, tag in pos if tag in ['NNG', 'NNP', 'VV', 'VA', 'VX']]\n",
    "    keywords_w_pos = [[word, tag] for word, tag in pos if tag in ['NNG', 'NNP', 'VV', 'VA', 'VX', 'EC', 'XSV', 'JKO', 'JKB', 'JKS']]\n",
    "    \n",
    "    while keywords_w_pos[-1][1] not in ['VV', 'VA', 'VX', 'NNG', 'NNP']:\n",
    "        keywords_w_pos.pop(-1)\n",
    "\n",
    "    print(keywords_w_pos)  # for debugging\n",
    "\n",
    "    return keywords_w_pos\n",
    "\n",
    "def sentence_to_noun_verb(sentence):\n",
    "\n",
    "    \"\"\"\n",
    "    \"사다리가 쓰러져서\" 문장을 \"사다리가 쓰러짐\" 문자열로 변환하는 함수\n",
    "    extract_keywords를 통해 얻은 keywords_w_pos에 대한 표현 정규화 작업을 수행합니다.\n",
    "    리스트의 마지막 요소가 동사의 어근인 경우만 수행합니다. (['VV', 'VA', 'VX'])\n",
    "\n",
    "    \"\"\"\n",
    "    keywords_w_pos = extract_keywords(sentence)\n",
    "\n",
    "    # for item in keywords_w_pos:\n",
    "    #     if item[1] in ['VV', 'VA', 'VX']:\n",
    "    #         item[0] = verb_to_noun(item[0])\n",
    "    \n",
    "    if keywords_w_pos[-1][1] in ['VV', 'VA', 'VX']:\n",
    "        keywords_w_pos[-1][0] = verb_to_noun(keywords_w_pos[-1][0])\n",
    "    result = [word for word, tag in keywords_w_pos]\n",
    "    head = ''.join(result[:-1])\n",
    "    tail = result[-1]\n",
    "    return ' '.join([head, tail])\n",
    "    # return ' '.join(result)"
   ]
  },
  {
   "cell_type": "code",
   "execution_count": 9,
   "metadata": {},
   "outputs": [
    {
     "name": "stdout",
     "output_type": "stream",
     "text": [
      "[['발판', 'NNG'], ['이', 'JKS'], ['쓰러지', 'VV']]\n",
      "발판이 쓰러져서 >>> 발판이 쓰러짐\n",
      "\n",
      "[['사다리', 'NNP'], ['가', 'JKS'], ['넘어지', 'VV']]\n",
      "사다리가 넘어지다 >>> 사다리가 넘어짐\n",
      "\n",
      "[['사다리', 'NNP'], ['가', 'JKS'], ['넘어지', 'VV']]\n",
      "사다리가 넘어져서 >>> 사다리가 넘어짐\n",
      "\n",
      "[['사다리', 'NNP'], ['가', 'JKS'], ['넘어지', 'VV']]\n",
      "사다리가 넘어져 >>> 사다리가 넘어짐\n",
      "\n",
      "[['발판', 'NNG'], ['이', 'JKS'], ['쓰러지', 'VV']]\n",
      "발판이 쓰러져 >>> 발판이 쓰러짐\n",
      "\n",
      "[['화재', 'NNP'], ['발생', 'NNG']]\n",
      "화재 발생 >>> 화재 발생\n",
      "\n",
      "[['배탈', 'NNG'], ['이', 'JKS'], ['나서', 'VV']]\n",
      "배탈이 나서 >>> 배탈이 남\n",
      "\n",
      "[['배탈', 'NNG'], ['이', 'JKS'], ['나', 'VV']]\n",
      "배탈이 났다 >>> 배탈이 남\n",
      "\n"
     ]
    }
   ],
   "source": [
    "test_cases = ['발판이 쓰러져서', '사다리가 넘어지다', '사다리가 넘어져서', '사다리가 넘어져', '발판이 쓰러져', '화재 발생', '배탈이 나서', '배탈이 났다']\n",
    "\n",
    "# for item in test_cases:\n",
    "#     result = extract_keywords(item)\n",
    "#     print(result)\n",
    "\n",
    "for item in test_cases:\n",
    "    result = sentence_to_noun_verb(item)\n",
    "    print(item, '>>>', result)\n",
    "    print()"
   ]
  },
  {
   "cell_type": "code",
   "execution_count": 7,
   "metadata": {},
   "outputs": [
    {
     "data": {
      "text/plain": [
       "[('발판', 'NNG'), ('으로', 'JKB')]"
      ]
     },
     "execution_count": 7,
     "metadata": {},
     "output_type": "execute_result"
    }
   ],
   "source": [
    "tokenizer.pos('결속하지')\n",
    "tokenizer.pos('발판으로')"
   ]
  },
  {
   "cell_type": "code",
   "execution_count": 8,
   "metadata": {},
   "outputs": [
    {
     "name": "stdout",
     "output_type": "stream",
     "text": [
      "[['결속', 'NNG'], ['하', 'XSV'], ['지', 'EC'], ['아니하', 'VX']]\n",
      "결속하지 아니하여 >>> 결속하지 아니함\n",
      "\n",
      "[['결속', 'NNG'], ['하', 'XSV'], ['지', 'EC'], ['않', 'VX']]\n",
      "결속하지 않아 >>> 결속하지 않음\n",
      "\n",
      "[['착용', 'NNG'], ['하', 'XSV'], ['지', 'EC'], ['아니하', 'VX']]\n",
      "착용하지 아니한 채로 >>> 착용하지 아니함\n",
      "\n",
      "[['발생', 'NNG'], ['하', 'XSV'], ['지', 'EC'], ['않', 'VX']]\n",
      "발생하지 않은 >>> 발생하지 않음\n",
      "\n",
      "[['보', 'VV'], ['지', 'EC'], ['못하', 'VX']]\n",
      "보지 못하고 >>> 보지 못함\n",
      "\n",
      "[['보', 'VV'], ['지', 'EC'], ['않', 'VX']]\n",
      "보지 않고 >>> 보지 않음\n",
      "\n",
      "[['튀', 'VV'], ['어', 'EC'], ['오르', 'VV']]\n",
      "튀어 올라 >>> 튀어 오름\n",
      "\n",
      "[['들어가', 'VV']]\n",
      "들어가려다가 >>>  들어감\n",
      "\n",
      "[['결속', 'NNG'], ['하', 'XSV'], ['지', 'EC'], ['않', 'VX']]\n",
      "결속하지 않아서 >>> 결속하지 않음\n",
      "\n",
      "[['키스', 'NNP'], ['토', 'NNG'], ['링', 'NNG'], ['에', 'JKB'], ['걸리', 'VV']]\n",
      "키스토링에 걸리게 >>> 키스토링에 걸림\n",
      "\n",
      "[['발판', 'NNG'], ['이', 'JKS'], ['넘어지', 'VV']]\n",
      "발판이 넘어져서 >>> 발판이 넘어짐\n",
      "\n",
      "[['발판', 'NNG'], ['으로', 'JKB'], ['넘어지', 'VV']]\n",
      "발판으로 넘어져서 >>> 발판으로 넘어짐\n",
      "\n"
     ]
    }
   ],
   "source": [
    "test_cases = ['결속하지 아니하여', '결속하지 않아' , '착용하지 아니한 채로', '발생하지 않은', '보지 못하고', '보지 않고', '튀어 올라',  '들어가려다가', '결속하지 않아서', '키스토링에 걸리게', '발판이 넘어져서', '발판으로 넘어져서']\n",
    "\n",
    "# for item in test_cases:\n",
    "#     result = extract_keywords(item)\n",
    "#     print(item, result)\n",
    "\n",
    "for item in test_cases:\n",
    "    result = sentence_to_noun_verb(item)\n",
    "    print(item, '>>>', result)\n",
    "    print()"
   ]
  },
  {
   "cell_type": "code",
   "execution_count": null,
   "metadata": {},
   "outputs": [],
   "source": []
  }
 ],
 "metadata": {
  "kernelspec": {
   "display_name": "konlpy",
   "language": "python",
   "name": "python3"
  },
  "language_info": {
   "codemirror_mode": {
    "name": "ipython",
    "version": 3
   },
   "file_extension": ".py",
   "mimetype": "text/x-python",
   "name": "python",
   "nbconvert_exporter": "python",
   "pygments_lexer": "ipython3",
   "version": "3.10.9"
  },
  "orig_nbformat": 4,
  "vscode": {
   "interpreter": {
    "hash": "115e57fa8a6cabf4ff14ccb7a0a20905a6bade572e374a3d978bab4e6ffa1af9"
   }
  }
 },
 "nbformat": 4,
 "nbformat_minor": 2
}
