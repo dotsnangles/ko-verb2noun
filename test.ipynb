{
 "cells": [
  {
   "cell_type": "code",
   "execution_count": 1,
   "metadata": {},
   "outputs": [],
   "source": [
    "import re\n",
    "from jamo import h2j, j2h, j2hcj\n",
    "from konlpy.tag import Kkma, Komoran\n",
    "\n",
    "kkma = Kkma()\n",
    "komoran = Komoran(userdic='module/userdic.txt')\n",
    "tokenizer = komoran\n",
    "\n",
    "irregular_conjugation_stems = ['걷', '긷', '깨닫', '눋', '닫', '듣', '묻', '붇', '싣', '일컫', '가깝', '가볍', '간지럽', '굽', '그립', '깁', '껄끄럽', '노엽', '더럽', '덥', '맵', '메스껍', '무겁', '반갑', '부끄럽', '사납', '서럽', '쑥스럽', '줍', '긋', '낫', '붓', '잇', '잣', '젓', '짓', ]"
   ]
  },
  {
   "cell_type": "code",
   "execution_count": 16,
   "metadata": {},
   "outputs": [],
   "source": [
    "def extract_keywords(sentence):\n",
    "    \n",
    "    \"\"\"\n",
    "    문장을 입력으로 받아서 형태소 분석을 수행하고, 명사(Noun)와 동사(Verb)를 추출하는 함수\n",
    "    마지막 토큰이 명사형 혹은 동사의 어근이 아닌 경우 삭제합니다.\n",
    "    tokenizer별 형태소 분류표: https://docs.google.com/spreadsheets/d/1OGAjUvalBuX-oZvZ_-9tEfYD2gQe7hTGsgUpiiBSXI8/edit#gid=0\n",
    "\n",
    "    \"\"\"\n",
    "    words = sentence.split()\n",
    "    \n",
    "    words_w_pos = []\n",
    "    for word in words:\n",
    "        pos = tokenizer.pos(word)\n",
    "        pos = [[word, tag] for word, tag in pos]\n",
    "        words_w_pos.append(pos)\n",
    "    # print(words_w_pos)\n",
    "    endable_pos = ['VV', 'VA', 'VX', 'NNG', 'NNP']\n",
    "    poppable = False\n",
    "    for word_w_pos in words_w_pos:\n",
    "        for pair in word_w_pos:\n",
    "            if pair[1] in endable_pos:\n",
    "                poppable = True\n",
    "                break\n",
    "        if poppable:\n",
    "            break\n",
    "    print(poppable)\n",
    "    if poppable:\n",
    "        for idx in range(len(words_w_pos)-1, -1, -1):\n",
    "            while words_w_pos[idx][-1][1] not in endable_pos:\n",
    "                words_w_pos[idx].pop(-1)\n",
    "                if len(words_w_pos[idx]) < 1:\n",
    "                    break\n",
    "            if len(words_w_pos[idx]) > 0:\n",
    "                break\n",
    "        words_w_pos = [word_w_pos for word_w_pos in words_w_pos if word_w_pos != []]\n",
    "        return words_w_pos\n",
    "    else:\n",
    "        return words_w_pos"
   ]
  },
  {
   "cell_type": "code",
   "execution_count": 17,
   "metadata": {},
   "outputs": [
    {
     "name": "stdout",
     "output_type": "stream",
     "text": [
      "True\n"
     ]
    },
    {
     "data": {
      "text/plain": [
       "[[['허리', 'NNG'], ['를', 'JKO']],\n",
       " [['숙이', 'VV'], ['고', 'EC']],\n",
       " [['굴', 'NNG'], ['다리', 'NNP'], ['로', 'JKB']],\n",
       " [['들어가', 'VV']]]"
      ]
     },
     "execution_count": 17,
     "metadata": {},
     "output_type": "execute_result"
    }
   ],
   "source": [
    "test_case = '허리를 숙이고 굴다리로 들어가던 중'\n",
    "extract_keywords(test_case)"
   ]
  },
  {
   "cell_type": "code",
   "execution_count": 20,
   "metadata": {},
   "outputs": [
    {
     "name": "stdout",
     "output_type": "stream",
     "text": [
      "False\n"
     ]
    },
    {
     "data": {
      "text/plain": [
       "[[['빨리', 'MAG']], [['빨리', 'MAG']]]"
      ]
     },
     "execution_count": 20,
     "metadata": {},
     "output_type": "execute_result"
    }
   ],
   "source": [
    "test_case = '빨리 빨리'\n",
    "extract_keywords(test_case)"
   ]
  },
  {
   "cell_type": "code",
   "execution_count": null,
   "metadata": {},
   "outputs": [],
   "source": []
  }
 ],
 "metadata": {
  "kernelspec": {
   "display_name": "jeonghyeon",
   "language": "python",
   "name": "python3"
  },
  "language_info": {
   "codemirror_mode": {
    "name": "ipython",
    "version": 3
   },
   "file_extension": ".py",
   "mimetype": "text/x-python",
   "name": "python",
   "nbconvert_exporter": "python",
   "pygments_lexer": "ipython3",
   "version": "3.8.16"
  },
  "orig_nbformat": 4
 },
 "nbformat": 4,
 "nbformat_minor": 2
}
