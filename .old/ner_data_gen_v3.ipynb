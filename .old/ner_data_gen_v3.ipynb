{
 "cells": [
  {
   "cell_type": "code",
   "execution_count": 268,
   "metadata": {},
   "outputs": [],
   "source": [
    "import os\n",
    "import pandas as pd\n",
    "from transformers import ElectraModel, ElectraTokenizer"
   ]
  },
  {
   "attachments": {},
   "cell_type": "markdown",
   "metadata": {},
   "source": [
    "## Load Tokenizer"
   ]
  },
  {
   "cell_type": "code",
   "execution_count": 269,
   "metadata": {},
   "outputs": [],
   "source": [
    "ckpt = 'monologg/koelectra-base-v3-discriminator'\n",
    "\n",
    "tokenizer = ElectraTokenizer.from_pretrained(ckpt)"
   ]
  },
  {
   "cell_type": "code",
   "execution_count": 275,
   "metadata": {},
   "outputs": [
    {
     "data": {
      "text/plain": [
       "['a', 'b', 'c']"
      ]
     },
     "execution_count": 275,
     "metadata": {},
     "output_type": "execute_result"
    }
   ],
   "source": [
    "lst = ['b','a','c']\n",
    "sorted(lst)"
   ]
  },
  {
   "attachments": {},
   "cell_type": "markdown",
   "metadata": {},
   "source": [
    "## Load Data"
   ]
  },
  {
   "cell_type": "code",
   "execution_count": 284,
   "metadata": {},
   "outputs": [],
   "source": [
    "DATA_PATH = input('엑셀 파일이 있는 폴더명을 입력하세요')\n",
    "print('개체명 인식 데이터를 생성합니다.')"
   ]
  },
  {
   "cell_type": "code",
   "execution_count": 281,
   "metadata": {},
   "outputs": [
    {
     "data": {
      "text/plain": [
       "638"
      ]
     },
     "execution_count": 281,
     "metadata": {},
     "output_type": "execute_result"
    }
   ],
   "source": [
    "DATA_PATH = 'data'\n",
    "sheets = sorted([os.path.join(DATA_PATH, sheet) for sheet in os.listdir(DATA_PATH)])\n",
    "col_num_count = lambda sheet: len(pd.read_excel(sheet).columns)\n",
    "col_nums = [col_num_count(sheet) for sheet in sheets]\n",
    "\n",
    "dfs = [pd.read_excel(sheet, names=[f'Col {i}' for i in range(col_num)]) for sheet, col_num in zip(sheets, col_nums)]\n",
    "\n",
    "df2lst = [df.values.tolist() for df in dfs]\n",
    "\n",
    "raw_data = []\n",
    "for item in df2lst:\n",
    "    raw_data.extend(item)\n",
    "len(raw_data)"
   ]
  },
  {
   "cell_type": "code",
   "execution_count": 282,
   "metadata": {},
   "outputs": [
    {
     "data": {
      "text/plain": [
       "638"
      ]
     },
     "execution_count": 282,
     "metadata": {},
     "output_type": "execute_result"
    }
   ],
   "source": [
    "sheet_1 = 'data/eshc 인과관계 학습용(sample)_rev2.xlsx'\n",
    "sheet_2 = 'data/port 인과관계 학습용(sample)_rev4.xlsx'\n",
    "data_1 = pd.read_excel(sheet_1, names=[f'Col {i}' for i in range(10)])\n",
    "data_2 = pd.read_excel(sheet_2, names=[f'Col {i}' for i in range(9)])\n",
    "\n",
    "raw_data = data_1.values.tolist() + data_2.values.tolist()\n",
    "len(raw_data)\n",
    "# raw_data = [[el for el in lst if type(el) == str] for lst in raw_data]"
   ]
  },
  {
   "attachments": {},
   "cell_type": "markdown",
   "metadata": {},
   "source": [
    "## Delete Duplicate Objects and Split Sentences"
   ]
  },
  {
   "cell_type": "code",
   "execution_count": 214,
   "metadata": {},
   "outputs": [],
   "source": [
    "dups_removed = []\n",
    "for lst in raw_data:\n",
    "    temp = []\n",
    "    for el in lst:\n",
    "        if type(el) == str and el not in temp:\n",
    "            temp.append(el.strip())\n",
    "    dups_removed.append(temp)"
   ]
  },
  {
   "cell_type": "code",
   "execution_count": 215,
   "metadata": {},
   "outputs": [],
   "source": [
    "### split by space\n",
    "tokens_lst = [[el.split() for el in lst] for lst in dups_removed]"
   ]
  },
  {
   "attachments": {},
   "cell_type": "markdown",
   "metadata": {},
   "source": [
    "## Generate Labels"
   ]
  },
  {
   "cell_type": "code",
   "execution_count": 216,
   "metadata": {},
   "outputs": [],
   "source": [
    "labels_lst = []\n",
    "for sample in tokens_lst:\n",
    "    labels4sample = []\n",
    "    for idx, tokens in enumerate(sample):\n",
    "        if idx == 0:\n",
    "            labels4sample.append(['O' for _ in range(len(tokens))])\n",
    "        else:\n",
    "            labels = ['E_B'] + ['E_I' for _ in range(len(tokens)-1)]\n",
    "            labels4sample.append(labels)\n",
    "    labels_lst.append(labels4sample)"
   ]
  },
  {
   "cell_type": "code",
   "execution_count": 217,
   "metadata": {},
   "outputs": [
    {
     "name": "stdout",
     "output_type": "stream",
     "text": [
      "16 ['남양주', '시설', '공사', '현장에서', '철골', '기동의', '수직도를', '맞추는', '작업', '중', '레버풀러의', '체인이', '끊어지며', '튕겨나온', '레버풀러에', '맞음']\n",
      "3 ['수직도', '맞추는', '작업']\n",
      "2 ['체인', '끊어지며']\n",
      "2 ['레버풀러에', '맞음']\n",
      "16 ['O', 'O', 'O', 'O', 'O', 'O', 'O', 'O', 'O', 'O', 'O', 'O', 'O', 'O', 'O', 'O']\n",
      "3 ['E_B', 'E_I', 'E_I']\n",
      "2 ['E_B', 'E_I']\n",
      "2 ['E_B', 'E_I']\n"
     ]
    }
   ],
   "source": [
    "test_tokens, test_labels = tokens_lst[0], labels_lst[0]\n",
    "\n",
    "for el in test_tokens:\n",
    "    print(len(el), el)\n",
    "for el in test_labels:\n",
    "    print(len(el), el)"
   ]
  },
  {
   "attachments": {},
   "cell_type": "markdown",
   "metadata": {},
   "source": [
    "##### 원문의 라벨은 현재 O로 통일되어 있습니다. 객체의 패턴이 원문에서 발견되면 상응하도록 원문의 라벨을 수정합니다."
   ]
  },
  {
   "cell_type": "code",
   "execution_count": 218,
   "metadata": {},
   "outputs": [],
   "source": [
    "position_pairs_lst = []\n",
    "for tokens in tokens_lst:\n",
    "    source = tokens[0]\n",
    "    len_source = len(source)\n",
    "    markers = tokens[1:]\n",
    "\n",
    "    position_pairs = []\n",
    "    for idx, _ in enumerate(source):\n",
    "        for marker in markers:\n",
    "            len_marker = len(marker)\n",
    "            if source[idx:idx+len_marker] == marker:\n",
    "                position_pairs.append([idx, idx+len_marker])\n",
    "\n",
    "    position_pairs_lst.append(position_pairs)\n",
    "\n",
    "    # print(position_pairs)"
   ]
  },
  {
   "cell_type": "code",
   "execution_count": 219,
   "metadata": {},
   "outputs": [
    {
     "data": {
      "text/plain": [
       "(638, 638)"
      ]
     },
     "execution_count": 219,
     "metadata": {},
     "output_type": "execute_result"
    }
   ],
   "source": [
    "len(position_pairs_lst), len(tokens_lst)"
   ]
  },
  {
   "cell_type": "code",
   "execution_count": 220,
   "metadata": {},
   "outputs": [],
   "source": [
    "# for tokens, entity_position in zip(tokens_lst, position_pairs_lst):\n",
    "#     print(tokens)\n",
    "#     for pair in entity_position:\n",
    "#         print(tokens[0][pair[0]:pair[1]])"
   ]
  },
  {
   "cell_type": "code",
   "execution_count": 221,
   "metadata": {},
   "outputs": [],
   "source": [
    "for labels, position_pairs in zip(labels_lst, position_pairs_lst):\n",
    "    source_labels = labels[0]\n",
    "    for pair in position_pairs:\n",
    "        # print(pair)\n",
    "        # print(source_labels)\n",
    "        start = pair[0]\n",
    "        end = pair[1]\n",
    "        source_labels[start] = 'E_B'\n",
    "        if end-start > 1:\n",
    "            source_labels[start+1:end] = ['E_I' for _ in range(end-start-1)]\n",
    "        # print(source_labels)\n",
    "        # print()"
   ]
  },
  {
   "cell_type": "code",
   "execution_count": 222,
   "metadata": {},
   "outputs": [
    {
     "name": "stdout",
     "output_type": "stream",
     "text": [
      "28 ['2015년', '3월', '15일(일)', '20시35분경', '경북', '포항시', '소재', 'OO부두에서', '수출용', '파이프를', '선적하기', '위하여', '피재자가', '선창에', '파이프적재', '받침목을', '깔고', '내려오던', '중', '발이', '미끄러지면서', '선체', '벽과', '파이프', '사이의', '개구부로', '떨어져', '사망']\n",
      "3 ['받침목', '깔고', '내려오던']\n",
      "2 ['발이', '미끄러져']\n",
      "1 ['떨어져']\n",
      "1 ['사망']\n",
      "\n",
      "[26, 27]\n",
      "[27, 28]\n",
      "\n",
      "28 ['O', 'O', 'O', 'O', 'O', 'O', 'O', 'O', 'O', 'O', 'O', 'O', 'O', 'O', 'O', 'O', 'O', 'O', 'O', 'O', 'O', 'O', 'O', 'O', 'O', 'O', 'E_B', 'E_B']\n",
      "3 ['E_B', 'E_I', 'E_I']\n",
      "2 ['E_B', 'E_I']\n",
      "1 ['E_B']\n",
      "1 ['E_B']\n"
     ]
    }
   ],
   "source": [
    "idx = 555\n",
    "test_position_pairs, test_tokens, test_labels = position_pairs_lst[idx], tokens_lst[idx], labels_lst[idx]\n",
    "\n",
    "for el in test_tokens:\n",
    "    print(len(el), el)\n",
    "print()\n",
    "for el in test_position_pairs:\n",
    "    print(el)\n",
    "print()\n",
    "for el in test_labels:\n",
    "    print(len(el), el)"
   ]
  },
  {
   "cell_type": "code",
   "execution_count": 223,
   "metadata": {},
   "outputs": [],
   "source": [
    "tokens_lst = [el for tokens in tokens_lst for el in tokens]\n",
    "labels_lst = [el for labels in labels_lst for el in labels]"
   ]
  },
  {
   "cell_type": "code",
   "execution_count": 224,
   "metadata": {},
   "outputs": [],
   "source": [
    "def tokenize_and_preserve_labels(tokens_lst, labels_lst):\n",
    "    tokenized_sentence = []\n",
    "    labels = []\n",
    "    for word, label in zip(tokens_lst, labels_lst):\n",
    "        tokenized_word = tokenizer.tokenize(word)\n",
    "        n_subwords = len(tokenized_word)\n",
    "\n",
    "        tokenized_sentence.extend(tokenized_word)\n",
    "\n",
    "        if label[-1] == 'B' and n_subwords > 1:\n",
    "            tail = list(label)\n",
    "            tail[-1] = 'I'\n",
    "            tail = ''.join(tail)\n",
    "            labels.extend([label] + [tail]*(n_subwords-1))\n",
    "        else:\n",
    "            labels.extend([label] * n_subwords)\n",
    "\n",
    "    return tokenized_sentence, labels"
   ]
  },
  {
   "cell_type": "code",
   "execution_count": 225,
   "metadata": {},
   "outputs": [],
   "source": [
    "tokenized_texts_and_labels = [\n",
    "                              [*tokenize_and_preserve_labels(words, labs)]\n",
    "                              for words, labs in zip(tokens_lst, labels_lst)\n",
    "                              ]"
   ]
  },
  {
   "cell_type": "code",
   "execution_count": 226,
   "metadata": {},
   "outputs": [],
   "source": [
    "for tokens, labels in tokenized_texts_and_labels:\n",
    "    tokens.append(None)\n",
    "    labels.append(None)"
   ]
  },
  {
   "cell_type": "code",
   "execution_count": 227,
   "metadata": {},
   "outputs": [],
   "source": [
    "# for item in tokenized_texts_and_labels:\n",
    "#     if len(item[0]) != len(item[1]):\n",
    "#         print(item)"
   ]
  },
  {
   "cell_type": "code",
   "execution_count": 228,
   "metadata": {},
   "outputs": [],
   "source": [
    "# for tokens, labels in tokenized_texts_and_labels:\n",
    "#     print(tokens)\n",
    "#     print(labels)\n",
    "#     print()"
   ]
  },
  {
   "cell_type": "code",
   "execution_count": null,
   "metadata": {},
   "outputs": [],
   "source": []
  },
  {
   "cell_type": "code",
   "execution_count": 229,
   "metadata": {},
   "outputs": [],
   "source": [
    "data = {\n",
    "    'tokens': [],\n",
    "    'labels': []\n",
    "}\n",
    "\n",
    "for tokens, labels in tokenized_texts_and_labels:\n",
    "    data['tokens'].extend(tokens)\n",
    "    data['labels'].extend(labels)\n",
    "    \n",
    "data_df = pd.DataFrame(data)"
   ]
  },
  {
   "cell_type": "code",
   "execution_count": 240,
   "metadata": {},
   "outputs": [],
   "source": [
    "# data_df.iloc[200:250, :]\n",
    "\n",
    "data_df.to_csv(f'./ner_data_gen_results/ner_data.csv', index=False, encoding='utf-8-sig')"
   ]
  },
  {
   "cell_type": "code",
   "execution_count": 287,
   "metadata": {},
   "outputs": [
    {
     "data": {
      "text/html": [
       "<div>\n",
       "<style scoped>\n",
       "    .dataframe tbody tr th:only-of-type {\n",
       "        vertical-align: middle;\n",
       "    }\n",
       "\n",
       "    .dataframe tbody tr th {\n",
       "        vertical-align: top;\n",
       "    }\n",
       "\n",
       "    .dataframe thead th {\n",
       "        text-align: right;\n",
       "    }\n",
       "</style>\n",
       "<table border=\"1\" class=\"dataframe\">\n",
       "  <thead>\n",
       "    <tr style=\"text-align: right;\">\n",
       "      <th></th>\n",
       "      <th>tokens</th>\n",
       "      <th>labels</th>\n",
       "    </tr>\n",
       "  </thead>\n",
       "  <tbody>\n",
       "    <tr>\n",
       "      <th>0</th>\n",
       "      <td>남양주</td>\n",
       "      <td>O</td>\n",
       "    </tr>\n",
       "    <tr>\n",
       "      <th>1</th>\n",
       "      <td>시설</td>\n",
       "      <td>O</td>\n",
       "    </tr>\n",
       "    <tr>\n",
       "      <th>2</th>\n",
       "      <td>공사</td>\n",
       "      <td>O</td>\n",
       "    </tr>\n",
       "    <tr>\n",
       "      <th>3</th>\n",
       "      <td>현장</td>\n",
       "      <td>O</td>\n",
       "    </tr>\n",
       "    <tr>\n",
       "      <th>4</th>\n",
       "      <td>##에</td>\n",
       "      <td>O</td>\n",
       "    </tr>\n",
       "    <tr>\n",
       "      <th>5</th>\n",
       "      <td>##서</td>\n",
       "      <td>O</td>\n",
       "    </tr>\n",
       "    <tr>\n",
       "      <th>6</th>\n",
       "      <td>철</td>\n",
       "      <td>O</td>\n",
       "    </tr>\n",
       "    <tr>\n",
       "      <th>7</th>\n",
       "      <td>##골</td>\n",
       "      <td>O</td>\n",
       "    </tr>\n",
       "    <tr>\n",
       "      <th>8</th>\n",
       "      <td>기동</td>\n",
       "      <td>O</td>\n",
       "    </tr>\n",
       "    <tr>\n",
       "      <th>9</th>\n",
       "      <td>##의</td>\n",
       "      <td>O</td>\n",
       "    </tr>\n",
       "    <tr>\n",
       "      <th>10</th>\n",
       "      <td>수직</td>\n",
       "      <td>O</td>\n",
       "    </tr>\n",
       "    <tr>\n",
       "      <th>11</th>\n",
       "      <td>##도</td>\n",
       "      <td>O</td>\n",
       "    </tr>\n",
       "    <tr>\n",
       "      <th>12</th>\n",
       "      <td>##를</td>\n",
       "      <td>O</td>\n",
       "    </tr>\n",
       "    <tr>\n",
       "      <th>13</th>\n",
       "      <td>맞추</td>\n",
       "      <td>O</td>\n",
       "    </tr>\n",
       "    <tr>\n",
       "      <th>14</th>\n",
       "      <td>##는</td>\n",
       "      <td>O</td>\n",
       "    </tr>\n",
       "    <tr>\n",
       "      <th>15</th>\n",
       "      <td>작업</td>\n",
       "      <td>O</td>\n",
       "    </tr>\n",
       "    <tr>\n",
       "      <th>16</th>\n",
       "      <td>중</td>\n",
       "      <td>O</td>\n",
       "    </tr>\n",
       "    <tr>\n",
       "      <th>17</th>\n",
       "      <td>레버</td>\n",
       "      <td>O</td>\n",
       "    </tr>\n",
       "    <tr>\n",
       "      <th>18</th>\n",
       "      <td>##풀</td>\n",
       "      <td>O</td>\n",
       "    </tr>\n",
       "    <tr>\n",
       "      <th>19</th>\n",
       "      <td>##러</td>\n",
       "      <td>O</td>\n",
       "    </tr>\n",
       "    <tr>\n",
       "      <th>20</th>\n",
       "      <td>##의</td>\n",
       "      <td>O</td>\n",
       "    </tr>\n",
       "    <tr>\n",
       "      <th>21</th>\n",
       "      <td>체인</td>\n",
       "      <td>O</td>\n",
       "    </tr>\n",
       "    <tr>\n",
       "      <th>22</th>\n",
       "      <td>##이</td>\n",
       "      <td>O</td>\n",
       "    </tr>\n",
       "    <tr>\n",
       "      <th>23</th>\n",
       "      <td>끊</td>\n",
       "      <td>O</td>\n",
       "    </tr>\n",
       "    <tr>\n",
       "      <th>24</th>\n",
       "      <td>##어지</td>\n",
       "      <td>O</td>\n",
       "    </tr>\n",
       "    <tr>\n",
       "      <th>25</th>\n",
       "      <td>##며</td>\n",
       "      <td>O</td>\n",
       "    </tr>\n",
       "    <tr>\n",
       "      <th>26</th>\n",
       "      <td>튕겨</td>\n",
       "      <td>O</td>\n",
       "    </tr>\n",
       "    <tr>\n",
       "      <th>27</th>\n",
       "      <td>##나</td>\n",
       "      <td>O</td>\n",
       "    </tr>\n",
       "    <tr>\n",
       "      <th>28</th>\n",
       "      <td>##온</td>\n",
       "      <td>O</td>\n",
       "    </tr>\n",
       "    <tr>\n",
       "      <th>29</th>\n",
       "      <td>레버</td>\n",
       "      <td>E_B</td>\n",
       "    </tr>\n",
       "    <tr>\n",
       "      <th>30</th>\n",
       "      <td>##풀</td>\n",
       "      <td>E_I</td>\n",
       "    </tr>\n",
       "    <tr>\n",
       "      <th>31</th>\n",
       "      <td>##러</td>\n",
       "      <td>E_I</td>\n",
       "    </tr>\n",
       "    <tr>\n",
       "      <th>32</th>\n",
       "      <td>##에</td>\n",
       "      <td>E_I</td>\n",
       "    </tr>\n",
       "    <tr>\n",
       "      <th>33</th>\n",
       "      <td>맞</td>\n",
       "      <td>E_I</td>\n",
       "    </tr>\n",
       "    <tr>\n",
       "      <th>34</th>\n",
       "      <td>##음</td>\n",
       "      <td>E_I</td>\n",
       "    </tr>\n",
       "    <tr>\n",
       "      <th>35</th>\n",
       "      <td>NaN</td>\n",
       "      <td>NaN</td>\n",
       "    </tr>\n",
       "    <tr>\n",
       "      <th>36</th>\n",
       "      <td>수직</td>\n",
       "      <td>E_B</td>\n",
       "    </tr>\n",
       "    <tr>\n",
       "      <th>37</th>\n",
       "      <td>##도</td>\n",
       "      <td>E_I</td>\n",
       "    </tr>\n",
       "    <tr>\n",
       "      <th>38</th>\n",
       "      <td>맞추</td>\n",
       "      <td>E_I</td>\n",
       "    </tr>\n",
       "    <tr>\n",
       "      <th>39</th>\n",
       "      <td>##는</td>\n",
       "      <td>E_I</td>\n",
       "    </tr>\n",
       "    <tr>\n",
       "      <th>40</th>\n",
       "      <td>작업</td>\n",
       "      <td>E_I</td>\n",
       "    </tr>\n",
       "    <tr>\n",
       "      <th>41</th>\n",
       "      <td>NaN</td>\n",
       "      <td>NaN</td>\n",
       "    </tr>\n",
       "    <tr>\n",
       "      <th>42</th>\n",
       "      <td>체인</td>\n",
       "      <td>E_B</td>\n",
       "    </tr>\n",
       "    <tr>\n",
       "      <th>43</th>\n",
       "      <td>끊</td>\n",
       "      <td>E_I</td>\n",
       "    </tr>\n",
       "    <tr>\n",
       "      <th>44</th>\n",
       "      <td>##어지</td>\n",
       "      <td>E_I</td>\n",
       "    </tr>\n",
       "    <tr>\n",
       "      <th>45</th>\n",
       "      <td>##며</td>\n",
       "      <td>E_I</td>\n",
       "    </tr>\n",
       "    <tr>\n",
       "      <th>46</th>\n",
       "      <td>NaN</td>\n",
       "      <td>NaN</td>\n",
       "    </tr>\n",
       "    <tr>\n",
       "      <th>47</th>\n",
       "      <td>레버</td>\n",
       "      <td>E_B</td>\n",
       "    </tr>\n",
       "    <tr>\n",
       "      <th>48</th>\n",
       "      <td>##풀</td>\n",
       "      <td>E_I</td>\n",
       "    </tr>\n",
       "    <tr>\n",
       "      <th>49</th>\n",
       "      <td>##러</td>\n",
       "      <td>E_I</td>\n",
       "    </tr>\n",
       "  </tbody>\n",
       "</table>\n",
       "</div>"
      ],
      "text/plain": [
       "   tokens labels\n",
       "0     남양주      O\n",
       "1      시설      O\n",
       "2      공사      O\n",
       "3      현장      O\n",
       "4     ##에      O\n",
       "5     ##서      O\n",
       "6       철      O\n",
       "7     ##골      O\n",
       "8      기동      O\n",
       "9     ##의      O\n",
       "10     수직      O\n",
       "11    ##도      O\n",
       "12    ##를      O\n",
       "13     맞추      O\n",
       "14    ##는      O\n",
       "15     작업      O\n",
       "16      중      O\n",
       "17     레버      O\n",
       "18    ##풀      O\n",
       "19    ##러      O\n",
       "20    ##의      O\n",
       "21     체인      O\n",
       "22    ##이      O\n",
       "23      끊      O\n",
       "24   ##어지      O\n",
       "25    ##며      O\n",
       "26     튕겨      O\n",
       "27    ##나      O\n",
       "28    ##온      O\n",
       "29     레버    E_B\n",
       "30    ##풀    E_I\n",
       "31    ##러    E_I\n",
       "32    ##에    E_I\n",
       "33      맞    E_I\n",
       "34    ##음    E_I\n",
       "35    NaN    NaN\n",
       "36     수직    E_B\n",
       "37    ##도    E_I\n",
       "38     맞추    E_I\n",
       "39    ##는    E_I\n",
       "40     작업    E_I\n",
       "41    NaN    NaN\n",
       "42     체인    E_B\n",
       "43      끊    E_I\n",
       "44   ##어지    E_I\n",
       "45    ##며    E_I\n",
       "46    NaN    NaN\n",
       "47     레버    E_B\n",
       "48    ##풀    E_I\n",
       "49    ##러    E_I"
      ]
     },
     "execution_count": 287,
     "metadata": {},
     "output_type": "execute_result"
    }
   ],
   "source": [
    "pd.read_csv('./ner_data_gen_results/ner_data.csv').head(50)"
   ]
  }
 ],
 "metadata": {
  "kernelspec": {
   "display_name": "jeonghyeon",
   "language": "python",
   "name": "python3"
  },
  "language_info": {
   "codemirror_mode": {
    "name": "ipython",
    "version": 3
   },
   "file_extension": ".py",
   "mimetype": "text/x-python",
   "name": "python",
   "nbconvert_exporter": "python",
   "pygments_lexer": "ipython3",
   "version": "3.8.16"
  },
  "orig_nbformat": 4
 },
 "nbformat": 4,
 "nbformat_minor": 2
}
